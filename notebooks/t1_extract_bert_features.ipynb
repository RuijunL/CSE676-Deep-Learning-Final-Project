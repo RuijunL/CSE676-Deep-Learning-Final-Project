{
 "cells": [
  {
   "cell_type": "code",
   "execution_count": 1,
   "metadata": {},
   "outputs": [],
   "source": [
    "# change present working directory to project directory\n",
    "import os\n",
    "os.chdir(\"../\")"
   ]
  },
  {
   "cell_type": "code",
   "execution_count": 3,
   "metadata": {},
   "outputs": [
    {
     "name": "stdout",
     "output_type": "stream",
     "text": [
      "1083\n"
     ]
    },
    {
     "name": "stderr",
     "output_type": "stream",
     "text": [
      "  4%|▍         | 43/1083 [00:32<12:52,  1.35it/s]"
     ]
    }
   ],
   "source": [
    "from sklearn.model_selection import StratifiedKFold\n",
    "import numpy as np\n",
    "from sklearn.model_selection import train_test_split\n",
    "import pickle\n",
    "import os\n",
    "from utils.utils import load_config\n",
    "\n",
    "config = load_config('configs/configs.yaml')\n",
    "\n",
    "Text_FOLDER = config[\"TRANSCRIPTS_FOLDER\"]\n",
    "\n",
    "transCript = {}\n",
    "\n",
    "# Loop through each file in the folder\n",
    "for filename in os.listdir(Text_FOLDER):\n",
    "    if filename.endswith('.txt'): \n",
    "        file_path = os.path.join(Text_FOLDER, filename)\n",
    "        with open(file_path, 'r') as file:\n",
    "            # Read text file contents and append to dictionary\n",
    "            transCript[filename[:-4]] = file.read()\n",
    "\n",
    "print(len(transCript))\n",
    "\n",
    "'''\n",
    "num = len(transCript)\n",
    "print(num)\n",
    "sum = 0  \n",
    "for script in transCript:\n",
    "   words = script.split()\n",
    "   sum += len(words)\n",
    "print(sum // num)\n",
    "'''\n",
    "\n",
    "Pf_Folder = config[\"PICKLE_FOLDER\"]\n",
    "# # Save text contents into a pickle file\n",
    "# with open(Pf_Folder + 'all_video_vosk_audioMap.p', 'wb') as pf:\n",
    "#     pickle.dump(transCript, pf)\n",
    "\n",
    "# with open(Pf_Folder + 'all_video_vosk_audioMap.p','rb') as fp:\n",
    "#     transCript = pickle.load(fp)\n",
    "\n",
    "\n",
    "from transformers import BertTokenizer, BertModel\n",
    "import torch\n",
    "\n",
    "tokenizer = BertTokenizer.from_pretrained(\"bert-base-uncased\")\n",
    "model = BertModel.from_pretrained(\"bert-base-uncased\")\n",
    "\n",
    "\n",
    "\n",
    "from tqdm import tqdm\n",
    "allEmbedding ={}\n",
    "for i in tqdm(list(transCript.keys())):\n",
    "  try:\n",
    "    inputs = tokenizer(transCript[i], return_tensors=\"pt\", truncation = True, padding='max_length', add_special_tokens=True)\n",
    "    with torch.no_grad():\n",
    "        outputs = model(**inputs)\n",
    "        last_hidden_states = outputs.last_hidden_state\n",
    "        allEmbedding[i]= last_hidden_states[0][0].detach().numpy()\n",
    "    del(outputs)\n",
    "  except:\n",
    "    pass\n",
    "\n",
    "\n",
    "\n",
    "print(len(allEmbedding))\n",
    "with open(Pf_Folder+'all_rawBERTembedding.p', 'wb') as fp:\n",
    "    pickle.dump(allEmbedding,fp)\n",
    "\n"
   ]
  },
  {
   "cell_type": "code",
   "execution_count": null,
   "metadata": {},
   "outputs": [],
   "source": []
  }
 ],
 "metadata": {
  "kernelspec": {
   "display_name": "py311",
   "language": "python",
   "name": "python3"
  },
  "language_info": {
   "codemirror_mode": {
    "name": "ipython",
    "version": 3
   },
   "file_extension": ".py",
   "mimetype": "text/x-python",
   "name": "python",
   "nbconvert_exporter": "python",
   "pygments_lexer": "ipython3",
   "version": "3.11.5"
  }
 },
 "nbformat": 4,
 "nbformat_minor": 2
}
