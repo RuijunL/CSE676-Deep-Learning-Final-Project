{
 "cells": [
  {
   "cell_type": "markdown",
   "metadata": {},
   "source": [
    "## Creating indices for train, validation and test sets - to be used consistently for all models   \n",
    "\n",
    "Using 70-10-20 data split for train-validation-testing sets"
   ]
  },
  {
   "cell_type": "code",
   "execution_count": 1,
   "metadata": {},
   "outputs": [],
   "source": [
    "# change present working directory to project directory\n",
    "import os\n",
    "os.chdir(\"../\")"
   ]
  },
  {
   "cell_type": "code",
   "execution_count": 2,
   "metadata": {},
   "outputs": [],
   "source": [
    "from sklearn.model_selection import StratifiedKFold\n",
    "import numpy as np\n",
    "from sklearn.model_selection import train_test_split\n",
    "import os\n",
    "import pickle"
   ]
  },
  {
   "cell_type": "code",
   "execution_count": 17,
   "metadata": {},
   "outputs": [],
   "source": [
    "ROOT_FOLDER = \"../\"\n",
    "VIT_FOLDER = f\"{ROOT_FOLDER}/Dataset/VITF/\""
   ]
  },
  {
   "cell_type": "code",
   "execution_count": 18,
   "metadata": {},
   "outputs": [],
   "source": [
    "X = np.array([name[:-6] for name in os.listdir(VIT_FOLDER)])\n",
    "y = np.array([0 if name.startswith(\"non_hate_video\") else 1 for name in X])"
   ]
  },
  {
   "cell_type": "code",
   "execution_count": 19,
   "metadata": {},
   "outputs": [],
   "source": [
    "k = 5\n",
    "skf = StratifiedKFold(n_splits=k, shuffle=True, random_state=42)\n",
    "allDataAnnotation = {}\n",
    "\n",
    "for fold_num, (train_index, test_index) in enumerate(skf.split(X, y), start=1):\n",
    "    X_train, X_test = X[train_index], X[test_index]\n",
    "    y_train, y_test = y[train_index], y[test_index]\n",
    "\n",
    "    # split train to train and validation sets\n",
    "    X_train, X_val, y_train, y_val = train_test_split(X_train, y_train, test_size=1/8, stratify=y_train, random_state=42)\n",
    "\n",
    "    allDataAnnotation[f\"fold{fold_num}\"] = {'train': (X_train, y_train), \n",
    "                           'val': (X_val, y_val), \n",
    "                           'test': (X_test, y_test)}\n"
   ]
  },
  {
   "cell_type": "code",
   "execution_count": 20,
   "metadata": {},
   "outputs": [],
   "source": [
    "split_data_location = f\"{ROOT_FOLDER}/Dataset/\"\n",
    "with open(f\"{split_data_location}/allFoldDetails.p\", \"wb\") as f:\n",
    "    pickle.dump(allDataAnnotation, f)"
   ]
  },
  {
   "cell_type": "code",
   "execution_count": 21,
   "metadata": {},
   "outputs": [],
   "source": [
    "with open(f\"{split_data_location}/allFoldDetails.p\", \"rb\") as f:\n",
    "    allFoldDetails = pickle.load(f)"
   ]
  },
  {
   "cell_type": "code",
   "execution_count": null,
   "metadata": {},
   "outputs": [],
   "source": []
  }
 ],
 "metadata": {
  "kernelspec": {
   "display_name": "py311",
   "language": "python",
   "name": "python3"
  },
  "language_info": {
   "codemirror_mode": {
    "name": "ipython",
    "version": 3
   },
   "file_extension": ".py",
   "mimetype": "text/x-python",
   "name": "python",
   "nbconvert_exporter": "python",
   "pygments_lexer": "ipython3",
   "version": "3.11.5"
  }
 },
 "nbformat": 4,
 "nbformat_minor": 2
}
