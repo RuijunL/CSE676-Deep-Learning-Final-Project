{
 "cells": [
  {
   "cell_type": "markdown",
   "metadata": {},
   "source": [
    "# Multimodal training all three modalities"
   ]
  },
  {
   "cell_type": "code",
   "execution_count": 1,
   "metadata": {},
   "outputs": [
    {
     "data": {
      "text/plain": [
       "'/Users/shaileshmahto/Documents/Data_Science_Projects/Hate-Video-Classification/Hate_Video_Classification/CSE676-Deep-Learning-Final-Project'"
      ]
     },
     "execution_count": 1,
     "metadata": {},
     "output_type": "execute_result"
    }
   ],
   "source": [
    "import os\n",
    "os.chdir(\"../\")\n",
    "os.getcwd()"
   ]
  },
  {
   "cell_type": "code",
   "execution_count": 2,
   "metadata": {},
   "outputs": [],
   "source": [
    "import warnings\n",
    "import pickle\n",
    "warnings.filterwarnings('ignore')\n",
    "import warnings\n",
    "from data_preprocessing.multimodal_datasets import MultimodalDataset\n",
    "from models.multimodal_model import MultimodalClassifier\n",
    "from training.test_model_multimodal import test_model_multimodal\n",
    "from utils.utils import load_config, fix_the_random\n",
    "import pickle\n",
    "from training.evaluation import get_metric_by_epoch, plot_all_metrics, save_results"
   ]
  },
  {
   "cell_type": "code",
   "execution_count": null,
   "metadata": {},
   "outputs": [],
   "source": []
  },
  {
   "cell_type": "code",
   "execution_count": 3,
   "metadata": {},
   "outputs": [],
   "source": [
    "model_name = \"Multimodal_A_V_T\"\n",
    "\n",
    "config = load_config('configs/configs.yaml')\n",
    "fix_the_random(2021)\n",
    "\n",
    "# load k-fold indexes\n",
    "with open(config[\"PICKLE_FOLDER\"] +'allFoldDetails.p', 'rb') as fp:\n",
    "    allDataAnnotation = pickle.load(fp)\n",
    "\n",
    "model_cls = MultimodalClassifier\n",
    "\n",
    "dataset_cls = MultimodalDataset"
   ]
  },
  {
   "cell_type": "code",
   "execution_count": 4,
   "metadata": {},
   "outputs": [
    {
     "name": "stderr",
     "output_type": "stream",
     "text": [
      "  0%|          | 0/5 [00:00<?, ?it/s]"
     ]
    },
    {
     "name": "stdout",
     "output_type": "stream",
     "text": [
      "EPOCH:0, LR:[0.0001]\n",
      "EPOCH:1, LR:[0.0001]\n",
      "EPOCH:2, LR:[0.0001]\n",
      "EPOCH:3, LR:[0.0001]\n",
      "EPOCH:4, LR:[0.0001]\n",
      "EPOCH:5, LR:[0.0001]\n",
      "EPOCH:6, LR:[0.0001]\n",
      "EPOCH:7, LR:[1e-05]\n",
      "EPOCH:8, LR:[1e-05]\n",
      "EPOCH:9, LR:[1e-05]\n",
      "EPOCH:10, LR:[1.0000000000000002e-06]\n",
      "EPOCH:11, LR:[1.0000000000000002e-06]\n",
      "EPOCH:12, LR:[1.0000000000000002e-06]\n",
      "EPOCH:13, LR:[1.0000000000000002e-07]\n",
      "EPOCH:14, LR:[1.0000000000000002e-07]\n",
      "EPOCH:15, LR:[1.0000000000000002e-07]\n",
      "EPOCH:16, LR:[1.0000000000000004e-08]\n",
      "EPOCH:17, LR:[1.0000000000000004e-08]\n"
     ]
    },
    {
     "name": "stderr",
     "output_type": "stream",
     "text": [
      " 20%|██        | 1/5 [00:03<00:12,  3.07s/it]"
     ]
    },
    {
     "name": "stdout",
     "output_type": "stream",
     "text": [
      "EPOCH:18, LR:[1.0000000000000004e-08]\n",
      "EPOCH:19, LR:[1.0000000000000004e-08]\n",
      "EPOCH:0, LR:[0.0001]\n",
      "EPOCH:1, LR:[0.0001]\n",
      "EPOCH:2, LR:[0.0001]\n",
      "EPOCH:3, LR:[0.0001]\n",
      "EPOCH:4, LR:[0.0001]\n",
      "EPOCH:5, LR:[0.0001]\n",
      "EPOCH:6, LR:[0.0001]\n",
      "EPOCH:7, LR:[0.0001]\n",
      "EPOCH:8, LR:[0.0001]\n",
      "EPOCH:9, LR:[1e-05]\n",
      "EPOCH:10, LR:[1e-05]\n",
      "EPOCH:11, LR:[1e-05]\n",
      "EPOCH:12, LR:[1.0000000000000002e-06]\n",
      "EPOCH:13, LR:[1.0000000000000002e-06]\n",
      "EPOCH:14, LR:[1.0000000000000002e-06]\n",
      "EPOCH:15, LR:[1.0000000000000002e-06]\n",
      "EPOCH:16, LR:[1.0000000000000002e-07]\n",
      "EPOCH:17, LR:[1.0000000000000002e-07]\n"
     ]
    },
    {
     "name": "stderr",
     "output_type": "stream",
     "text": [
      " 40%|████      | 2/5 [00:05<00:08,  2.71s/it]"
     ]
    },
    {
     "name": "stdout",
     "output_type": "stream",
     "text": [
      "EPOCH:18, LR:[1.0000000000000002e-07]\n",
      "EPOCH:19, LR:[1.0000000000000004e-08]\n",
      "EPOCH:0, LR:[0.0001]\n",
      "EPOCH:1, LR:[0.0001]\n",
      "EPOCH:2, LR:[0.0001]\n",
      "EPOCH:3, LR:[0.0001]\n",
      "EPOCH:4, LR:[0.0001]\n",
      "EPOCH:5, LR:[0.0001]\n",
      "EPOCH:6, LR:[0.0001]\n",
      "EPOCH:7, LR:[0.0001]\n",
      "EPOCH:8, LR:[0.0001]\n",
      "EPOCH:9, LR:[0.0001]\n",
      "EPOCH:10, LR:[0.0001]\n",
      "EPOCH:11, LR:[1e-05]\n",
      "EPOCH:12, LR:[1e-05]\n",
      "EPOCH:13, LR:[1e-05]\n",
      "EPOCH:14, LR:[1.0000000000000002e-06]\n",
      "EPOCH:15, LR:[1.0000000000000002e-06]\n",
      "EPOCH:16, LR:[1.0000000000000002e-06]\n",
      "EPOCH:17, LR:[1.0000000000000002e-07]\n"
     ]
    },
    {
     "name": "stderr",
     "output_type": "stream",
     "text": [
      " 60%|██████    | 3/5 [00:08<00:05,  2.63s/it]"
     ]
    },
    {
     "name": "stdout",
     "output_type": "stream",
     "text": [
      "EPOCH:18, LR:[1.0000000000000002e-07]\n",
      "EPOCH:19, LR:[1.0000000000000002e-07]\n",
      "EPOCH:0, LR:[0.0001]\n",
      "EPOCH:1, LR:[0.0001]\n",
      "EPOCH:2, LR:[0.0001]\n",
      "EPOCH:3, LR:[0.0001]\n",
      "EPOCH:4, LR:[0.0001]\n",
      "EPOCH:5, LR:[0.0001]\n",
      "EPOCH:6, LR:[0.0001]\n",
      "EPOCH:7, LR:[1e-05]\n",
      "EPOCH:8, LR:[1e-05]\n",
      "EPOCH:9, LR:[1e-05]\n",
      "EPOCH:10, LR:[1.0000000000000002e-06]\n",
      "EPOCH:11, LR:[1.0000000000000002e-06]\n",
      "EPOCH:12, LR:[1.0000000000000002e-06]\n",
      "EPOCH:13, LR:[1.0000000000000002e-07]\n",
      "EPOCH:14, LR:[1.0000000000000002e-07]\n",
      "EPOCH:15, LR:[1.0000000000000002e-07]\n",
      "EPOCH:16, LR:[1.0000000000000004e-08]\n",
      "EPOCH:17, LR:[1.0000000000000004e-08]\n"
     ]
    },
    {
     "name": "stderr",
     "output_type": "stream",
     "text": [
      " 80%|████████  | 4/5 [00:10<00:02,  2.61s/it]"
     ]
    },
    {
     "name": "stdout",
     "output_type": "stream",
     "text": [
      "EPOCH:18, LR:[1.0000000000000004e-08]\n",
      "EPOCH:19, LR:[1.0000000000000004e-08]\n",
      "EPOCH:0, LR:[0.0001]\n",
      "EPOCH:1, LR:[0.0001]\n",
      "EPOCH:2, LR:[0.0001]\n",
      "EPOCH:3, LR:[0.0001]\n",
      "EPOCH:4, LR:[0.0001]\n",
      "EPOCH:5, LR:[0.0001]\n",
      "EPOCH:6, LR:[0.0001]\n",
      "EPOCH:7, LR:[0.0001]\n",
      "EPOCH:8, LR:[0.0001]\n",
      "EPOCH:9, LR:[0.0001]\n",
      "EPOCH:10, LR:[0.0001]\n",
      "EPOCH:11, LR:[1e-05]\n",
      "EPOCH:12, LR:[1e-05]\n",
      "EPOCH:13, LR:[1e-05]\n",
      "EPOCH:14, LR:[1e-05]\n",
      "EPOCH:15, LR:[1e-05]\n",
      "EPOCH:16, LR:[1e-05]\n",
      "EPOCH:17, LR:[1.0000000000000002e-06]\n"
     ]
    },
    {
     "name": "stderr",
     "output_type": "stream",
     "text": [
      "100%|██████████| 5/5 [00:13<00:00,  2.62s/it]"
     ]
    },
    {
     "name": "stdout",
     "output_type": "stream",
     "text": [
      "EPOCH:18, LR:[1.0000000000000002e-06]\n",
      "EPOCH:19, LR:[1.0000000000000002e-06]\n"
     ]
    },
    {
     "name": "stderr",
     "output_type": "stream",
     "text": [
      "\n"
     ]
    }
   ],
   "source": [
    "performance_by_epoch, best_mean_metrics, best_std_metrics = test_model_multimodal(\n",
    "    model_cls=model_cls,\n",
    "    dataset_cls=dataset_cls,\n",
    "    epochs=config[\"EPOCHS\"],\n",
    "    optimizer_name=\"Adam\",\n",
    "    allDataAnnotation=allDataAnnotation\n",
    ")"
   ]
  }
 ],
 "metadata": {
  "kernelspec": {
   "display_name": "Python 3",
   "language": "python",
   "name": "python3"
  },
  "language_info": {
   "codemirror_mode": {
    "name": "ipython",
    "version": 3
   },
   "file_extension": ".py",
   "mimetype": "text/x-python",
   "name": "python",
   "nbconvert_exporter": "python",
   "pygments_lexer": "ipython3",
   "version": "3.11.5"
  }
 },
 "nbformat": 4,
 "nbformat_minor": 2
}
