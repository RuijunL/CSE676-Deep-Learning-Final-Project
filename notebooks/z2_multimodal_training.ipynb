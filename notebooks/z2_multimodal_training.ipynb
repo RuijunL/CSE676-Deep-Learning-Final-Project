{
 "cells": [
  {
   "cell_type": "markdown",
   "metadata": {},
   "source": [
    "# Multimodal training all three modalities"
   ]
  },
  {
   "cell_type": "code",
   "execution_count": 1,
   "metadata": {},
   "outputs": [
    {
     "data": {
      "text/plain": [
       "'/Users/shaileshmahto/Documents/Data_Science_Projects/Hate-Video-Classification/Hate_Video_Classification/CSE676-Deep-Learning-Final-Project'"
      ]
     },
     "execution_count": 1,
     "metadata": {},
     "output_type": "execute_result"
    }
   ],
   "source": [
    "import os\n",
    "os.chdir(\"../\")\n",
    "os.getcwd()"
   ]
  },
  {
   "cell_type": "code",
   "execution_count": 2,
   "metadata": {},
   "outputs": [
    {
     "ename": "ModuleNotFoundError",
     "evalue": "No module named 'data_preprocessing.multimodal_dataset'",
     "output_type": "error",
     "traceback": [
      "\u001b[0;31m---------------------------------------------------------------------------\u001b[0m",
      "\u001b[0;31mModuleNotFoundError\u001b[0m                       Traceback (most recent call last)",
      "Cell \u001b[0;32mIn[2], line 5\u001b[0m\n\u001b[1;32m      3\u001b[0m warnings\u001b[38;5;241m.\u001b[39mfilterwarnings(\u001b[38;5;124m'\u001b[39m\u001b[38;5;124mignore\u001b[39m\u001b[38;5;124m'\u001b[39m)\n\u001b[1;32m      4\u001b[0m \u001b[38;5;28;01mimport\u001b[39;00m \u001b[38;5;21;01mwarnings\u001b[39;00m\n\u001b[0;32m----> 5\u001b[0m \u001b[38;5;28;01mfrom\u001b[39;00m \u001b[38;5;21;01mdata_preprocessing\u001b[39;00m\u001b[38;5;21;01m.\u001b[39;00m\u001b[38;5;21;01mmultimodal_dataset\u001b[39;00m \u001b[38;5;28;01mimport\u001b[39;00m MultiModalData\n",
      "\u001b[0;31mModuleNotFoundError\u001b[0m: No module named 'data_preprocessing.multimodal_dataset'"
     ]
    }
   ],
   "source": [
    "import warnings\n",
    "import pickle\n",
    "warnings.filterwarnings('ignore')\n",
    "import warnings\n",
    "from data_preprocessing.multimodal_dataset import MultiModalData\n",
    "\n"
   ]
  },
  {
   "cell_type": "code",
   "execution_count": 3,
   "metadata": {},
   "outputs": [],
   "source": [
    "from utils.utils import load_config, fix_the_random\n",
    "import pickle\n",
    "from training.test_model_temp import test_model, load_config, fix_the_random\n",
    "from models.combine_model import combinedModel"
   ]
  },
  {
   "cell_type": "code",
   "execution_count": null,
   "metadata": {},
   "outputs": [],
   "source": []
  },
  {
   "cell_type": "code",
   "execution_count": 4,
   "metadata": {},
   "outputs": [],
   "source": [
    "model_name = \"Multimodal_A_V_T\"\n",
    "\n",
    "config = load_config('configs/configs.yaml')\n",
    "fix_the_random(2021)\n",
    "\n",
    "# load k-fold indexes\n",
    "with open(config[\"PICKLE_FOLDER\"] +'allFoldDetails.p', 'rb') as fp:\n",
    "    allDataAnnotation = pickle.load(fp)\n",
    "\n",
    "model_cls = combinedModel\n",
    "\n",
    "dataset_cls = MultiModalData"
   ]
  },
  {
   "cell_type": "code",
   "execution_count": 5,
   "metadata": {},
   "outputs": [
    {
     "name": "stderr",
     "output_type": "stream",
     "text": [
      "  0%|          | 0/5 [00:00<?, ?it/s]"
     ]
    },
    {
     "name": "stdout",
     "output_type": "stream",
     "text": [
      "\n",
      "Train Epoch: 1 [100/758 (13%)]\tLoss: 0.723356, Accu: 60.00%, MF1 Score: 0.5833\n",
      "\n",
      "Train Epoch: 1 [200/758 (26%)]\tLoss: 0.442226, Accu: 80.00%, MF1 Score: 0.7619\n",
      "\n",
      "Train Epoch: 1 [299/758 (39%)]\tLoss: 0.565643, Accu: 80.00%, MF1 Score: 0.7917\n",
      "\n",
      "Train Epoch: 1 [399/758 (53%)]\tLoss: 0.560086, Accu: 70.00%, MF1 Score: 0.6703\n",
      "\n",
      "Train Epoch: 1 [499/758 (66%)]\tLoss: 0.316599, Accu: 90.00%, MF1 Score: 0.8990\n",
      "\n",
      "Train Epoch: 1 [599/758 (79%)]\tLoss: 0.534183, Accu: 70.00%, MF1 Score: 0.6703\n",
      "\n",
      "Train Epoch: 1 [699/758 (92%)]\tLoss: 0.451277, Accu: 90.00%, MF1 Score: 0.8667\n",
      "\n",
      "Train Epoch: 2 [100/758 (13%)]\tLoss: 0.590532, Accu: 80.00%, MF1 Score: 0.7917\n",
      "\n",
      "Train Epoch: 2 [200/758 (26%)]\tLoss: 0.469965, Accu: 80.00%, MF1 Score: 0.7619\n",
      "\n",
      "Train Epoch: 2 [300/758 (39%)]\tLoss: 0.698620, Accu: 70.00%, MF1 Score: 0.6000\n",
      "\n",
      "Train Epoch: 2 [400/758 (53%)]\tLoss: 0.252114, Accu: 100.00%, MF1 Score: 1.0000\n",
      "\n",
      "Train Epoch: 2 [499/758 (66%)]\tLoss: 0.142361, Accu: 100.00%, MF1 Score: 1.0000\n",
      "\n",
      "Train Epoch: 2 [599/758 (79%)]\tLoss: 0.720455, Accu: 80.00%, MF1 Score: 0.7917\n",
      "\n",
      "Train Epoch: 2 [699/758 (92%)]\tLoss: 0.563401, Accu: 80.00%, MF1 Score: 0.8000\n"
     ]
    },
    {
     "name": "stderr",
     "output_type": "stream",
     "text": [
      " 20%|██        | 1/5 [00:08<00:34,  8.69s/it]"
     ]
    },
    {
     "name": "stdout",
     "output_type": "stream",
     "text": [
      "\n",
      "Train Epoch: 1 [100/758 (13%)]\tLoss: 0.491630, Accu: 90.00%, MF1 Score: 0.8667\n",
      "\n",
      "Train Epoch: 1 [200/758 (26%)]\tLoss: 0.671869, Accu: 60.00%, MF1 Score: 0.5238\n",
      "\n",
      "Train Epoch: 1 [300/758 (39%)]\tLoss: 0.384695, Accu: 90.00%, MF1 Score: 0.8039\n",
      "\n",
      "Train Epoch: 1 [400/758 (53%)]\tLoss: 0.701755, Accu: 60.00%, MF1 Score: 0.5833\n",
      "\n",
      "Train Epoch: 1 [500/758 (66%)]\tLoss: 0.540320, Accu: 60.00%, MF1 Score: 0.6000\n",
      "\n",
      "Train Epoch: 1 [600/758 (79%)]\tLoss: 0.381648, Accu: 90.00%, MF1 Score: 0.8990\n",
      "\n",
      "Train Epoch: 1 [700/758 (92%)]\tLoss: 0.506277, Accu: 70.00%, MF1 Score: 0.6970\n",
      "\n",
      "Train Epoch: 2 [100/758 (13%)]\tLoss: 0.388064, Accu: 90.00%, MF1 Score: 0.8667\n",
      "\n",
      "Train Epoch: 2 [200/758 (26%)]\tLoss: 0.624396, Accu: 80.00%, MF1 Score: 0.8000\n",
      "\n",
      "Train Epoch: 2 [300/758 (39%)]\tLoss: 0.346885, Accu: 80.00%, MF1 Score: 0.8000\n",
      "\n",
      "Train Epoch: 2 [400/758 (53%)]\tLoss: 0.201355, Accu: 100.00%, MF1 Score: 1.0000\n",
      "\n",
      "Train Epoch: 2 [500/758 (66%)]\tLoss: 0.191464, Accu: 100.00%, MF1 Score: 1.0000\n",
      "\n",
      "Train Epoch: 2 [600/758 (79%)]\tLoss: 1.272491, Accu: 50.00%, MF1 Score: 0.4949\n",
      "\n",
      "Train Epoch: 2 [700/758 (92%)]\tLoss: 0.487032, Accu: 70.00%, MF1 Score: 0.6703\n"
     ]
    },
    {
     "name": "stderr",
     "output_type": "stream",
     "text": [
      " 40%|████      | 2/5 [00:15<00:23,  7.83s/it]"
     ]
    },
    {
     "name": "stdout",
     "output_type": "stream",
     "text": [
      "\n",
      "Train Epoch: 1 [100/758 (13%)]\tLoss: 0.844777, Accu: 30.00%, MF1 Score: 0.2929\n",
      "\n",
      "Train Epoch: 1 [200/758 (26%)]\tLoss: 0.776767, Accu: 60.00%, MF1 Score: 0.5238\n",
      "\n",
      "Train Epoch: 1 [300/758 (39%)]\tLoss: 0.848859, Accu: 40.00%, MF1 Score: 0.3750\n",
      "\n",
      "Train Epoch: 1 [399/758 (53%)]\tLoss: 0.673160, Accu: 60.00%, MF1 Score: 0.6000\n",
      "\n",
      "Train Epoch: 1 [499/758 (66%)]\tLoss: 0.387745, Accu: 90.00%, MF1 Score: 0.4737\n",
      "\n",
      "Train Epoch: 1 [599/758 (79%)]\tLoss: 0.435135, Accu: 80.00%, MF1 Score: 0.7619\n",
      "\n",
      "Train Epoch: 1 [699/758 (92%)]\tLoss: 0.491948, Accu: 70.00%, MF1 Score: 0.6970\n",
      "\n",
      "Train Epoch: 2 [100/758 (13%)]\tLoss: 0.832292, Accu: 60.00%, MF1 Score: 0.5833\n",
      "\n",
      "Train Epoch: 2 [200/758 (26%)]\tLoss: 0.301963, Accu: 90.00%, MF1 Score: 0.8667\n",
      "\n",
      "Train Epoch: 2 [300/758 (39%)]\tLoss: 0.471015, Accu: 90.00%, MF1 Score: 0.8990\n",
      "\n",
      "Train Epoch: 2 [399/758 (53%)]\tLoss: 0.266363, Accu: 80.00%, MF1 Score: 0.8000\n",
      "\n",
      "Train Epoch: 2 [499/758 (66%)]\tLoss: 0.284071, Accu: 90.00%, MF1 Score: 0.8667\n",
      "\n",
      "Train Epoch: 2 [599/758 (79%)]\tLoss: 0.354225, Accu: 90.00%, MF1 Score: 0.8901\n",
      "\n",
      "Train Epoch: 2 [699/758 (92%)]\tLoss: 0.270777, Accu: 90.00%, MF1 Score: 0.8990\n"
     ]
    },
    {
     "name": "stderr",
     "output_type": "stream",
     "text": [
      " 60%|██████    | 3/5 [00:22<00:14,  7.41s/it]"
     ]
    },
    {
     "name": "stdout",
     "output_type": "stream",
     "text": [
      "\n",
      "Train Epoch: 1 [100/758 (13%)]\tLoss: 0.456898, Accu: 90.00%, MF1 Score: 0.8901\n",
      "\n",
      "Train Epoch: 1 [199/758 (26%)]\tLoss: 0.520867, Accu: 66.67%, MF1 Score: 0.6494\n",
      "\n",
      "Train Epoch: 1 [299/758 (39%)]\tLoss: 0.660582, Accu: 70.00%, MF1 Score: 0.6970\n",
      "\n",
      "Train Epoch: 1 [399/758 (53%)]\tLoss: 0.387744, Accu: 100.00%, MF1 Score: 1.0000\n",
      "\n",
      "Train Epoch: 1 [499/758 (66%)]\tLoss: 0.608240, Accu: 80.00%, MF1 Score: 0.6875\n",
      "\n",
      "Train Epoch: 1 [599/758 (79%)]\tLoss: 1.186218, Accu: 60.00%, MF1 Score: 0.5833\n",
      "\n",
      "Train Epoch: 1 [699/758 (92%)]\tLoss: 0.568370, Accu: 60.00%, MF1 Score: 0.5833\n",
      "\n",
      "Train Epoch: 2 [100/758 (13%)]\tLoss: 0.559510, Accu: 70.00%, MF1 Score: 0.6970\n",
      "\n",
      "Train Epoch: 2 [200/758 (26%)]\tLoss: 0.452928, Accu: 90.00%, MF1 Score: 0.8667\n",
      "\n",
      "Train Epoch: 2 [299/758 (39%)]\tLoss: 0.085387, Accu: 100.00%, MF1 Score: 1.0000\n",
      "\n",
      "Train Epoch: 2 [399/758 (53%)]\tLoss: 0.180414, Accu: 100.00%, MF1 Score: 1.0000\n",
      "\n",
      "Train Epoch: 2 [499/758 (66%)]\tLoss: 0.548555, Accu: 90.00%, MF1 Score: 0.8990\n",
      "\n",
      "Train Epoch: 2 [599/758 (79%)]\tLoss: 0.300092, Accu: 90.00%, MF1 Score: 0.8901\n",
      "\n",
      "Train Epoch: 2 [699/758 (92%)]\tLoss: 0.733495, Accu: 60.00%, MF1 Score: 0.5833\n"
     ]
    },
    {
     "name": "stderr",
     "output_type": "stream",
     "text": [
      " 80%|████████  | 4/5 [00:29<00:07,  7.26s/it]"
     ]
    },
    {
     "name": "stdout",
     "output_type": "stream",
     "text": [
      "\n",
      "Train Epoch: 1 [100/759 (13%)]\tLoss: 0.538778, Accu: 80.00%, MF1 Score: 0.7917\n",
      "\n",
      "Train Epoch: 1 [200/759 (26%)]\tLoss: 0.431965, Accu: 80.00%, MF1 Score: 0.8000\n",
      "\n",
      "Train Epoch: 1 [299/759 (39%)]\tLoss: 0.266263, Accu: 90.00%, MF1 Score: 0.8901\n",
      "\n",
      "Train Epoch: 1 [399/759 (53%)]\tLoss: 0.457690, Accu: 70.00%, MF1 Score: 0.6970\n",
      "\n",
      "Train Epoch: 1 [499/759 (66%)]\tLoss: 0.392063, Accu: 90.00%, MF1 Score: 0.8667\n",
      "\n",
      "Train Epoch: 1 [599/759 (79%)]\tLoss: 0.451406, Accu: 90.00%, MF1 Score: 0.8667\n",
      "\n",
      "Train Epoch: 1 [699/759 (92%)]\tLoss: 0.364032, Accu: 100.00%, MF1 Score: 1.0000\n",
      "\n",
      "Train Epoch: 2 [100/759 (13%)]\tLoss: 0.341845, Accu: 90.00%, MF1 Score: 0.8667\n",
      "\n",
      "Train Epoch: 2 [200/759 (26%)]\tLoss: 0.369341, Accu: 90.00%, MF1 Score: 0.8667\n",
      "\n",
      "Train Epoch: 2 [300/759 (39%)]\tLoss: 0.488715, Accu: 90.00%, MF1 Score: 0.8990\n",
      "\n",
      "Train Epoch: 2 [400/759 (53%)]\tLoss: 0.330865, Accu: 90.00%, MF1 Score: 0.8990\n",
      "\n",
      "Train Epoch: 2 [499/759 (66%)]\tLoss: 0.365920, Accu: 80.00%, MF1 Score: 0.7917\n",
      "\n",
      "Train Epoch: 2 [599/759 (79%)]\tLoss: 0.508655, Accu: 80.00%, MF1 Score: 0.8000\n",
      "\n",
      "Train Epoch: 2 [699/759 (92%)]\tLoss: 0.747448, Accu: 50.00%, MF1 Score: 0.4949\n"
     ]
    },
    {
     "name": "stderr",
     "output_type": "stream",
     "text": [
      "100%|██████████| 5/5 [00:36<00:00,  7.36s/it]\n"
     ]
    }
   ],
   "source": [
    "performance_by_epoch, best_mean_metrics, best_std_metrics = test_model(\n",
    "    model_cls=model_cls,\n",
    "    dataset_cls=dataset_cls,\n",
    "    epochs=config[\"EPOCHS\"],\n",
    "    optimizer_name=\"Adam\",\n",
    "    allDataAnnotation=allDataAnnotation\n",
    ")"
   ]
  },
  {
   "cell_type": "code",
   "execution_count": null,
   "metadata": {},
   "outputs": [],
   "source": []
  },
  {
   "cell_type": "code",
   "execution_count": null,
   "metadata": {},
   "outputs": [],
   "source": []
  }
 ],
 "metadata": {
  "kernelspec": {
   "display_name": "Python 3",
   "language": "python",
   "name": "python3"
  },
  "language_info": {
   "codemirror_mode": {
    "name": "ipython",
    "version": 3
   },
   "file_extension": ".py",
   "mimetype": "text/x-python",
   "name": "python",
   "nbconvert_exporter": "python",
   "pygments_lexer": "ipython3",
   "version": "3.11.5"
  }
 },
 "nbformat": 4,
 "nbformat_minor": 2
}
